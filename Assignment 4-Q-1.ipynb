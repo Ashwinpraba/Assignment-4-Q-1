{
 "cells": [
  {
   "cell_type": "markdown",
   "id": "92d19d6c",
   "metadata": {},
   "source": [
    "# Write a Python program to create a lambda function that adds 25 to a given number passed in as an argument."
   ]
  },
  {
   "cell_type": "code",
   "execution_count": 1,
   "id": "0ae1bb06",
   "metadata": {},
   "outputs": [
    {
     "name": "stdout",
     "output_type": "stream",
     "text": [
      "Enter a number:20\n",
      "output: 45\n"
     ]
    }
   ],
   "source": [
    "num1 =int(input(\"Enter a number:\"))\n",
    "sum = lambda num1: num1+25\n",
    "print(\"output:\",sum(num1))"
   ]
  },
  {
   "cell_type": "code",
   "execution_count": null,
   "id": "1cd2b19f",
   "metadata": {},
   "outputs": [],
   "source": [
    "num1 =int(input(\"Enter a number:\"))\n",
    "sum = lambda num1: num1+25\n",
    "print(\"output:\",sum(num1))"
   ]
  }
 ],
 "metadata": {
  "kernelspec": {
   "display_name": "Python 3 (ipykernel)",
   "language": "python",
   "name": "python3"
  },
  "language_info": {
   "codemirror_mode": {
    "name": "ipython",
    "version": 3
   },
   "file_extension": ".py",
   "mimetype": "text/x-python",
   "name": "python",
   "nbconvert_exporter": "python",
   "pygments_lexer": "ipython3",
   "version": "3.11.3"
  }
 },
 "nbformat": 4,
 "nbformat_minor": 5
}
